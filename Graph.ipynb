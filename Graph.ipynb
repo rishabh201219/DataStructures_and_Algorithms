{
 "cells": [
  {
   "cell_type": "code",
   "execution_count": 15,
   "id": "820a1819",
   "metadata": {},
   "outputs": [
    {
     "name": "stdout",
     "output_type": "stream",
     "text": [
      "graph dict: {'Dubai': ['New York'], 'New York': ['Torento'], 'mumbai': ['Dubai', 'Paris'], 'Paris': ['Dubai', 'New York']}\n",
      "paths between mumbai and New York: [['mumbai', 'Dubai', 'New York'], ['mumbai', 'Paris', 'Dubai', 'New York'], ['mumbai', 'Paris', 'New York']]\n",
      "paths between mumbai and New York: [['mumbai', 'Dubai', 'New York']]\n"
     ]
    }
   ],
   "source": [
    "class Graph:\n",
    "    def __init__(self,edges):\n",
    "        self.edges =edges\n",
    "        self.graph_dict={}\n",
    "        for start,end in self.edges:\n",
    "            if start in self.graph_dict:\n",
    "                self.graph_dict[start].append(end)\n",
    "            else:\n",
    "                self.graph_dict[start]=[end]\n",
    "        print(\"graph dict:\",self.graph_dict)\n",
    "        \n",
    "    def get_paths(self,start,end,path=[]):\n",
    "        path=path +[start] \n",
    "        if start == end:\n",
    "            return [path]\n",
    "        if start not in self.graph_dict:\n",
    "            return []\n",
    "         \n",
    "        paths=[]\n",
    "        for node in self.graph_dict[start]:\n",
    "            if node not in path:\n",
    "                new_paths =self.get_paths(node,end,path)\n",
    "                for p in new_paths:\n",
    "                    paths.append(p)\n",
    "                    \n",
    "        return paths\n",
    "    \n",
    "    def get_shortest_path(self,start,end,path=[]):\n",
    "        path=path +[start] \n",
    "        if start == end:\n",
    "            return [path]\n",
    "        if start not in self.graph_dict:\n",
    "            return None\n",
    "        shortest_path =None\n",
    "        for node in self.graph_dict[start]:\n",
    "            if node not in path:\n",
    "                sp=self.get_shortest_path(node,end,path)\n",
    "                if sp:\n",
    "                    if shortest_path is None or len(sp)< len(shortest_path):\n",
    "                        shortest_path =sp\n",
    "        \n",
    "        return shortest_path\n",
    "                        \n",
    "            \n",
    "if __name__=='__main__':\n",
    "    routes = {\n",
    "        (\"mumbai\",\"Paris\"),\n",
    "        (\"mumbai\",\"Dubai\"),\n",
    "        (\"Paris\",\"Dubai\"),\n",
    "        (\"Paris\",\"New York\"),\n",
    "        (\"Dubai\",\"New York\"),\n",
    "        (\"New York\",\"Torento\"),\n",
    "    }\n",
    "    \n",
    "    route_graph =Graph(routes)\n",
    "    \n",
    "    start=\"mumbai\"\n",
    "    end=\"New York\"\n",
    "    \n",
    "    print(f\"paths between {start} and {end}:\",route_graph.get_paths(start,end))\n",
    "    print(f\"paths between {start} and {end}:\",route_graph.get_shortest_path(start,end))\n",
    "    "
   ]
  },
  {
   "cell_type": "code",
   "execution_count": null,
   "id": "7e65ab00",
   "metadata": {},
   "outputs": [],
   "source": []
  }
 ],
 "metadata": {
  "kernelspec": {
   "display_name": "Python 3",
   "language": "python",
   "name": "python3"
  },
  "language_info": {
   "codemirror_mode": {
    "name": "ipython",
    "version": 3
   },
   "file_extension": ".py",
   "mimetype": "text/x-python",
   "name": "python",
   "nbconvert_exporter": "python",
   "pygments_lexer": "ipython3",
   "version": "3.8.8"
  }
 },
 "nbformat": 4,
 "nbformat_minor": 5
}
