{
 "cells": [
  {
   "cell_type": "code",
   "execution_count": 3,
   "id": "1ea36ccf",
   "metadata": {},
   "outputs": [
    {
     "name": "stdout",
     "output_type": "stream",
     "text": [
      "[2, 7, 9, 11, 15, 28, 29]\n",
      "sorted array: [2, 7, 9, 11, 15, 28, 29]\n",
      "sorted array: [3, 7, 9, 11]\n",
      "sorted array: [10, 21, 22, 25]\n",
      "sorted array: [15, 28, 29]\n",
      "sorted array: []\n",
      "sorted array: [6]\n"
     ]
    }
   ],
   "source": [
    "def swap(a,b,arr):\n",
    "    if a!=b:\n",
    "        tmp=arr[a]\n",
    "        arr[a]=arr[b]\n",
    "        arr[b]=tmp\n",
    "\n",
    "def quick_sort(elements,start,end):\n",
    "    if start<end:\n",
    "        pi= partition(elements,start,end)\n",
    "        quick_sort(elements,start,pi-1)\n",
    "        quick_sort(elements,pi+1,end)\n",
    "\n",
    "def partition(elements,start,end):\n",
    "    pivot_index=start\n",
    "    \n",
    "    pivot=elements[start]\n",
    "    \n",
    "    while start<end:\n",
    "        while start< len(elements) and elements[start] <=pivot:\n",
    "            start+=1\n",
    "        while elements[end] > pivot:\n",
    "            end-=1\n",
    "            \n",
    "        if start <end:\n",
    "            swap(start,end,elements)\n",
    "        \n",
    "    swap(pivot_index,end,elements)\n",
    "    \n",
    "    return end\n",
    "\n",
    "if __name__=='__main__':\n",
    "    elements = [11,9,29,7,2,15,28]\n",
    "    # elements = [\"mona\", \"dhaval\", \"aamir\", \"tina\", \"chang\"]\n",
    "    quick_sort(elements, 0, len(elements)-1)\n",
    "    print(elements)\n",
    "\n",
    "    tests = [\n",
    "        [11,9,29,7,2,15,28],\n",
    "        [3, 7, 9, 11],\n",
    "        [25, 22, 21, 10],\n",
    "        [29, 15, 28],\n",
    "        [],\n",
    "        [6]\n",
    "    ]\n",
    "\n",
    "    for elements in tests:\n",
    "        quick_sort(elements, 0, len(elements)-1)\n",
    "        print(f'sorted array: {elements}')\n",
    "    "
   ]
  },
  {
   "cell_type": "markdown",
   "id": "b75b7e6c",
   "metadata": {},
   "source": [
    "Exercise:-"
   ]
  },
  {
   "cell_type": "code",
   "execution_count": 5,
   "id": "8628c6b5",
   "metadata": {},
   "outputs": [
    {
     "name": "stdout",
     "output_type": "stream",
     "text": [
      "sorted array: [2, 7, 9, 11, 15, 28, 29]\n",
      "sorted array: [3, 7, 9, 11]\n",
      "sorted array: [10, 21, 22, 25]\n",
      "sorted array: [15, 28, 29]\n",
      "sorted array: []\n",
      "sorted array: [6]\n"
     ]
    }
   ],
   "source": [
    "def swap(a, b, arr):\n",
    "    if a!=b:\n",
    "        tmp = arr[a]\n",
    "        arr[a] = arr[b]\n",
    "        arr[b] = tmp\n",
    "\n",
    "def quick_sort(elements, start, end):\n",
    "    if len(elements)== 1:\n",
    "        return\n",
    "    if start < end:\n",
    "        pi = partition(elements, start, end)\n",
    "        quick_sort(elements, start, pi-1)\n",
    "        quick_sort(elements, pi+1, end)\n",
    "\n",
    "def partition(elements, start, end):\n",
    "    pivot = elements[end]\n",
    "    p_index = start\n",
    "\n",
    "    for i in range(start, end):\n",
    "        if elements[i] <= pivot:\n",
    "            swap(i, p_index, elements)\n",
    "            p_index += 1\n",
    "\n",
    "    swap(p_index, end, elements)\n",
    "\n",
    "    return p_index\n",
    "\n",
    "\n",
    "if __name__ == '__main__':\n",
    "    tests = [\n",
    "        [11,9,29,7,2,15,28],\n",
    "        [3, 7, 9, 11],\n",
    "        [25, 22, 21, 10],\n",
    "        [29, 15, 28],\n",
    "        [],\n",
    "        [6]\n",
    "    ]\n",
    "    # elements = [\"mona\", \"dhaval\", \"aamir\", \"tina\", \"chang\"]\n",
    "\n",
    "    for elements in tests:\n",
    "        quick_sort(elements, 0, len(elements)-1)\n",
    "        print(f'sorted array: {elements}')"
   ]
  },
  {
   "cell_type": "code",
   "execution_count": null,
   "id": "bd261ad5",
   "metadata": {},
   "outputs": [],
   "source": []
  }
 ],
 "metadata": {
  "kernelspec": {
   "display_name": "Python 3",
   "language": "python",
   "name": "python3"
  },
  "language_info": {
   "codemirror_mode": {
    "name": "ipython",
    "version": 3
   },
   "file_extension": ".py",
   "mimetype": "text/x-python",
   "name": "python",
   "nbconvert_exporter": "python",
   "pygments_lexer": "ipython3",
   "version": "3.8.8"
  }
 },
 "nbformat": 4,
 "nbformat_minor": 5
}
