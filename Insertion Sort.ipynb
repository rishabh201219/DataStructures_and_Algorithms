{
 "cells": [
  {
   "cell_type": "code",
   "execution_count": 5,
   "id": "28427ee2",
   "metadata": {},
   "outputs": [
    {
     "name": "stdout",
     "output_type": "stream",
     "text": [
      "anchor: 9\n",
      "11\n",
      "9\n",
      "anchor: 29\n",
      "anchor: 7\n",
      "29\n",
      "7\n",
      "11\n",
      "29\n",
      "9\n",
      "11\n",
      "anchor: 2\n",
      "29\n",
      "2\n",
      "11\n",
      "29\n",
      "9\n",
      "11\n",
      "7\n",
      "9\n",
      "anchor: 15\n",
      "29\n",
      "15\n",
      "anchor: 28\n",
      "29\n",
      "28\n",
      "[2, 7, 9, 11, 15, 28, 29]\n"
     ]
    }
   ],
   "source": [
    "def insertion_sort(elements):\n",
    "    for i in range(1,len(elements)):\n",
    "        anchor =elements[i]\n",
    "        #print(\"anchor:\",anchor)\n",
    "        j=i-1\n",
    "        while j>=0 and anchor < elements[j]:\n",
    "            #print(elements[j])\n",
    "            #print(elements[j+1])\n",
    "            elements[j+1] =elements[j]\n",
    "            j=j-1\n",
    "        elements[j+1] =anchor\n",
    "\n",
    "if __name__=='__main__':\n",
    "    elements =[11,9,29,7,2,15,28]\n",
    "    insertion_sort(elements)\n",
    "    print(elements)\n",
    "            "
   ]
  },
  {
   "cell_type": "markdown",
   "id": "17635451",
   "metadata": {},
   "source": [
    "Exercise:-"
   ]
  },
  {
   "cell_type": "code",
   "execution_count": null,
   "id": "a7905673",
   "metadata": {},
   "outputs": [
    {
     "name": "stdout",
     "output_type": "stream",
     "text": [
      "2\n",
      "Median of [2] : 2\n",
      "5\n",
      "Median of [2, 5] : 3.5\n",
      "5\n",
      "Median of [2, 5, 5] : 5\n",
      "6\n",
      "Median of [2, 5, 5, 6] : 5.0\n",
      "5\n",
      "Median of [2, 5, 5, 5, 6] : 5\n",
      "1\n",
      "Median of [1, 2, 5, 5, 5, 6] : 5.0\n"
     ]
    }
   ],
   "source": [
    "def place_to_insert(array,key):\n",
    "    index=0\n",
    "    for i in array:\n",
    "        if i > key:\n",
    "            break\n",
    "        else:\n",
    "            index+=1\n",
    "    return index\n",
    "\n",
    "\n",
    "def insert_to_sorted(array,key):\n",
    "    index = place_to_insert(array,key)\n",
    "    return array[0:index]+[key]+array[index:]\n",
    "\n",
    "if __name__=='__main__':\n",
    "    array = [2,1,5,7,2,0,5]\n",
    "    \n",
    "    stream=[]\n",
    "    \n",
    "    count=0\n",
    "    while(True):\n",
    "        i= int(input())\n",
    "        count+=1\n",
    "        stream = insert_to_sorted(stream,i)\n",
    "        if count%2==1:\n",
    "            print(f\"Median of {stream} : {stream[(count)//2]}\")\n",
    "        else:\n",
    "            i1 =count//2\n",
    "            i2 =(count//2)-1\n",
    "            print(f\"Median of {stream} : {(stream[i1]+stream[i2])/2}\")\n",
    "            \n",
    "    \n",
    "    "
   ]
  },
  {
   "cell_type": "code",
   "execution_count": null,
   "id": "6f457095",
   "metadata": {},
   "outputs": [],
   "source": []
  }
 ],
 "metadata": {
  "kernelspec": {
   "display_name": "Python 3",
   "language": "python",
   "name": "python3"
  },
  "language_info": {
   "codemirror_mode": {
    "name": "ipython",
    "version": 3
   },
   "file_extension": ".py",
   "mimetype": "text/x-python",
   "name": "python",
   "nbconvert_exporter": "python",
   "pygments_lexer": "ipython3",
   "version": "3.8.8"
  }
 },
 "nbformat": 4,
 "nbformat_minor": 5
}
