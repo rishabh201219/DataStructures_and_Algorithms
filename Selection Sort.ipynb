{
 "cells": [
  {
   "cell_type": "code",
   "execution_count": 3,
   "id": "1a376e56",
   "metadata": {},
   "outputs": [
    {
     "name": "stdout",
     "output_type": "stream",
     "text": [
      "[1, 2, 6, 7, 9, 12, 17, 21, 23, 53, 61, 78, 89]\n",
      "[]\n",
      "[1, 5, 8, 9]\n",
      "[1, 3, 9, 12, 12, 34, 56, 234, 1300]\n",
      "[8, 12, 15, 23, 27, 53, 61, 78]\n",
      "[5]\n"
     ]
    }
   ],
   "source": [
    "def selection_sort(arr):\n",
    "    size=len(arr)\n",
    "    for i in range(size-1):\n",
    "        min_index=i\n",
    "        for j in range(min_index+1,size):\n",
    "            if arr[j] < arr[min_index]:\n",
    "                min_index=j\n",
    "        \n",
    "        if i!=min_index:\n",
    "            arr[i],arr[min_index]=arr[min_index],arr[i]\n",
    "            \n",
    "if __name__=='__main__':\n",
    "    #elements=[78,12,15,8,61,53,23,27]\n",
    "    #selection_sort(elements)\n",
    "    #print(elements)\n",
    "    tests = [\n",
    "        [89, 78, 61, 53, 23, 21, 17, 12, 9, 7, 6, 2, 1],\n",
    "        [],\n",
    "        [1,5,8,9],\n",
    "        [234,3,1,56,34,12,9,12,1300],\n",
    "        [78, 12, 15, 8, 61, 53, 23, 27],\n",
    "        [5]\n",
    "    ]\n",
    "    for elements in tests:\n",
    "        selection_sort(elements)\n",
    "        print(elements)"
   ]
  },
  {
   "cell_type": "code",
   "execution_count": 4,
   "id": "9efea4da",
   "metadata": {},
   "outputs": [
    {
     "name": "stdout",
     "output_type": "stream",
     "text": [
      "Given unsorted array:\n",
      "{'First Name': 'Raj', 'Last Name': 'Nayyar'}\n",
      "{'First Name': 'Suraj', 'Last Name': 'Sharma'}\n",
      "{'First Name': 'Karan', 'Last Name': 'Kumar'}\n",
      "{'First Name': 'Jade', 'Last Name': 'Canary'}\n",
      "{'First Name': 'Raj', 'Last Name': 'Thakur'}\n",
      "{'First Name': 'Raj', 'Last Name': 'Sharma'}\n",
      "{'First Name': 'Kiran', 'Last Name': 'Kamla'}\n",
      "{'First Name': 'Armaan', 'Last Name': 'Kumar'}\n",
      "{'First Name': 'Jaya', 'Last Name': 'Sharma'}\n",
      "{'First Name': 'Ingrid', 'Last Name': 'Galore'}\n",
      "{'First Name': 'Jaya', 'Last Name': 'Seth'}\n",
      "{'First Name': 'Armaan', 'Last Name': 'Dadra'}\n",
      "{'First Name': 'Ingrid', 'Last Name': 'Maverick'}\n",
      "{'First Name': 'Aahana', 'Last Name': 'Arora'}\n",
      "Array after Multi-Level Sorting:\n",
      "{'First Name': 'Aahana', 'Last Name': 'Arora'}\n",
      "{'First Name': 'Armaan', 'Last Name': 'Dadra'}\n",
      "{'First Name': 'Armaan', 'Last Name': 'Kumar'}\n",
      "{'First Name': 'Ingrid', 'Last Name': 'Galore'}\n",
      "{'First Name': 'Ingrid', 'Last Name': 'Maverick'}\n",
      "{'First Name': 'Jade', 'Last Name': 'Canary'}\n",
      "{'First Name': 'Jaya', 'Last Name': 'Seth'}\n",
      "{'First Name': 'Jaya', 'Last Name': 'Sharma'}\n",
      "{'First Name': 'Karan', 'Last Name': 'Kumar'}\n",
      "{'First Name': 'Kiran', 'Last Name': 'Kamla'}\n",
      "{'First Name': 'Raj', 'Last Name': 'Sharma'}\n",
      "{'First Name': 'Raj', 'Last Name': 'Nayyar'}\n",
      "{'First Name': 'Raj', 'Last Name': 'Thakur'}\n",
      "{'First Name': 'Suraj', 'Last Name': 'Sharma'}\n"
     ]
    }
   ],
   "source": [
    "def multilevel_selection_sort(elements, sort_by_list):\n",
    "    for sort_by in sort_by_list[-1::-1]:\n",
    "        for x in range(len(elements)):\n",
    "            min_index = x\n",
    "            for y in range(x, len(elements)):\n",
    "                if elements[y][sort_by] < elements[min_index][sort_by]:\n",
    "                    min_index = y\n",
    "            if x != min_index:\n",
    "                elements[x], elements[min_index] = elements[min_index], elements[x]\n",
    "\n",
    "\n",
    "if __name__ == '__main__':\n",
    "    elements = [\n",
    "        {'First Name': 'Raj', 'Last Name': 'Nayyar'},\n",
    "        {'First Name': 'Suraj', 'Last Name': 'Sharma'},\n",
    "        {'First Name': 'Karan', 'Last Name': 'Kumar'},\n",
    "        {'First Name': 'Jade', 'Last Name': 'Canary'},\n",
    "        {'First Name': 'Raj', 'Last Name': 'Thakur'},\n",
    "        {'First Name': 'Raj', 'Last Name': 'Sharma'},\n",
    "        {'First Name': 'Kiran', 'Last Name': 'Kamla'},\n",
    "        {'First Name': 'Armaan', 'Last Name': 'Kumar'},\n",
    "        {'First Name': 'Jaya', 'Last Name': 'Sharma'},\n",
    "        {'First Name': 'Ingrid', 'Last Name': 'Galore'},\n",
    "        {'First Name': 'Jaya', 'Last Name': 'Seth'},\n",
    "        {'First Name': 'Armaan', 'Last Name': 'Dadra'},\n",
    "        {'First Name': 'Ingrid', 'Last Name': 'Maverick'},\n",
    "        {'First Name': 'Aahana', 'Last Name': 'Arora'}\n",
    "    ]\n",
    "\n",
    "    print(f'Given unsorted array:', *elements, sep='\\n')\n",
    "    multilevel_selection_sort(\n",
    "        elements, ['First Name', 'Last Name'])\n",
    "    print(f'Array after Multi-Level Sorting:', *elements, sep='\\n')"
   ]
  },
  {
   "cell_type": "code",
   "execution_count": null,
   "id": "7688dfaa",
   "metadata": {},
   "outputs": [],
   "source": []
  }
 ],
 "metadata": {
  "kernelspec": {
   "display_name": "Python 3",
   "language": "python",
   "name": "python3"
  },
  "language_info": {
   "codemirror_mode": {
    "name": "ipython",
    "version": 3
   },
   "file_extension": ".py",
   "mimetype": "text/x-python",
   "name": "python",
   "nbconvert_exporter": "python",
   "pygments_lexer": "ipython3",
   "version": "3.8.8"
  }
 },
 "nbformat": 4,
 "nbformat_minor": 5
}
