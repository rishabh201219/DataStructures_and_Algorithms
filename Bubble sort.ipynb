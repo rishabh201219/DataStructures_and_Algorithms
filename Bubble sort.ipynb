{
 "cells": [
  {
   "cell_type": "code",
   "execution_count": 6,
   "id": "66879758",
   "metadata": {},
   "outputs": [
    {
     "name": "stdout",
     "output_type": "stream",
     "text": [
      "[1, 2, 3]\n"
     ]
    }
   ],
   "source": [
    "def bubble_sort(elements):\n",
    "    size=len(elements)\n",
    "    \n",
    "    for i in range(size-1):\n",
    "        swapped=False\n",
    "        for j in range(size-1-i):\n",
    "            if elements[j]>elements[j+1]:\n",
    "                temp =elements[j]\n",
    "                elements[j]=elements[j+1]\n",
    "                elements[j+1]=temp\n",
    "                swapped=True\n",
    "        if not swapped:\n",
    "            break\n",
    "            \n",
    "if __name__=='__main__':\n",
    "    #elements=[5,9,2,1,67,34,88,34]\n",
    "    \n",
    "    elements=[1,2,3]\n",
    "    bubble_sort(elements)\n",
    "    print(elements)\n",
    "        "
   ]
  },
  {
   "cell_type": "markdown",
   "id": "910d65bb",
   "metadata": {},
   "source": [
    "Exercise:-"
   ]
  },
  {
   "cell_type": "code",
   "execution_count": null,
   "id": "bd8abca0",
   "metadata": {},
   "outputs": [],
   "source": [
    "def bubble_sort(elements, key=None):\n",
    "    size = len(elements)\n",
    "\n",
    "    for i in range(size-1):\n",
    "        swapped = False\n",
    "        for j in range(size-1-i):\n",
    "            a = elements[j][key]\n",
    "            b = elements[j+1][key]\n",
    "            if a > b:\n",
    "                tmp = elements[j]\n",
    "                elements[j] = elements[j+1]\n",
    "                elements[j+1] = tmp\n",
    "                swapped = True\n",
    "\n",
    "        if not swapped:\n",
    "            break\n",
    "\n",
    "if __name__ == '__main__':\n",
    "    elements = [\n",
    "        { 'name': 'mona',   'transaction_amount': 1000, 'device': 'iphone-10'},\n",
    "        { 'name': 'dhaval', 'transaction_amount': 400,  'device': 'google pixel'},\n",
    "        { 'name': 'kathy',  'transaction_amount': 200,  'device': 'vivo'},\n",
    "        { 'name': 'aamir',  'transaction_amount': 800,  'device': 'iphone-8'},\n",
    "    ]\n",
    "\n",
    "    bubble_sort(elements, key='transaction_amount')\n",
    "    print(elements)"
   ]
  }
 ],
 "metadata": {
  "kernelspec": {
   "display_name": "Python 3",
   "language": "python",
   "name": "python3"
  },
  "language_info": {
   "codemirror_mode": {
    "name": "ipython",
    "version": 3
   },
   "file_extension": ".py",
   "mimetype": "text/x-python",
   "name": "python",
   "nbconvert_exporter": "python",
   "pygments_lexer": "ipython3",
   "version": "3.8.8"
  }
 },
 "nbformat": 4,
 "nbformat_minor": 5
}
