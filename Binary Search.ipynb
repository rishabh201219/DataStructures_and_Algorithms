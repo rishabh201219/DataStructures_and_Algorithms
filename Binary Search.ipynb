{
 "cells": [
  {
   "cell_type": "code",
   "execution_count": 10,
   "id": "ed3f6d17",
   "metadata": {},
   "outputs": [
    {
     "name": "stdout",
     "output_type": "stream",
     "text": [
      "number found at index 5 using binary search\n"
     ]
    }
   ],
   "source": [
    "def linear_search(numbers_list,number_to_find):\n",
    "    for index,element in enumerate(numbers_list):\n",
    "        if element == number_to_find:\n",
    "            return index\n",
    "    return -1\n",
    "        \n",
    "def binary_search(numbers_list,number_to_find):\n",
    "    left_index=0\n",
    "    right_index =len(numbers_list)-1\n",
    "    mid_index =0\n",
    "    \n",
    "    while left_index <= right_index:\n",
    "        mid_index = (left_index + right_index)//2\n",
    "        mid_number = numbers_list[mid_index]\n",
    "        \n",
    "        if mid_number == number_to_find:\n",
    "            return mid_index\n",
    "        \n",
    "        if mid_number < number_to_find:\n",
    "            left_index =mid_index+1\n",
    "        else:\n",
    "            right_index = mid_index -1\n",
    "            \n",
    "    return -1\n",
    "\n",
    "def binary_search_recursive(numbers_list,number_to_find,left_index,right_index):\n",
    "    if right_index <left_index:\n",
    "        return -1 \n",
    "    mid_index = (left_index + right_index)//2\n",
    "    if mid_index >= len(numbers_list) or mid_index <0:\n",
    "        return -1\n",
    "    mid_number = numbers_list[mid_index]\n",
    "    if mid_number == number_to_find:\n",
    "        return mid_index\n",
    "        \n",
    "    if mid_number < number_to_find:\n",
    "        left_index =mid_index+1\n",
    "    else:\n",
    "        right_index = mid_index -1\n",
    "    \n",
    "    return binary_search_recursive(numbers_list,number_to_find,left_index,right_index)\n",
    "    \n",
    "if __name__=='__main__':\n",
    "    numbers_list = [12,15,17,19,21,24,45,67]\n",
    "    number_to_find = 24\n",
    "    \n",
    "    #index = linear_search(numbers_list,number_to_find)\n",
    "    #print(f\"number found at index {index} using linear search\")\n",
    "    index = binary_search_recursive(numbers_list,number_to_find,0,6)\n",
    "    #index = binary_search(numbers_list,number_to_find)\n",
    "    print(f\"number found at index {index} using binary search\")"
   ]
  },
  {
   "cell_type": "markdown",
   "id": "b77f097b",
   "metadata": {},
   "source": [
    "Exercise:-"
   ]
  },
  {
   "cell_type": "code",
   "execution_count": 12,
   "id": "6f3bd035",
   "metadata": {},
   "outputs": [
    {
     "name": "stdout",
     "output_type": "stream",
     "text": [
      "Indices of occurances of 15 are [5, 6, 7]\n"
     ]
    }
   ],
   "source": [
    "def binary_search(numbers_list,number_to_find):\n",
    "    left_index=0\n",
    "    right_index =len(numbers_list)-1\n",
    "    mid_index =0\n",
    "    \n",
    "    while left_index <= right_index:\n",
    "        mid_index = (left_index + right_index)//2\n",
    "        mid_number = numbers_list[mid_index]\n",
    "        \n",
    "        if mid_number == number_to_find:\n",
    "            return mid_index\n",
    "        \n",
    "        if mid_number < number_to_find:\n",
    "            left_index =mid_index+1\n",
    "        else:\n",
    "            right_index = mid_index -1\n",
    "            \n",
    "    return -1\n",
    "\n",
    "def find_all_occurances(numbers,number_to_find):\n",
    "    index = binary_search(numbers,number_to_find)\n",
    "    indices = [index]\n",
    "    i= index-1\n",
    "    \n",
    "    while i >=0:\n",
    "        \n",
    "        if numbers[i]== number_to_find:\n",
    "            indices.append(i)\n",
    "        else:\n",
    "            break\n",
    "        i=i-1\n",
    "        \n",
    "    i= index+1\n",
    "    while i<len(numbers):\n",
    "        if numbers[i] == number_to_find:\n",
    "            indices.append(i)\n",
    "        else:\n",
    "            break\n",
    "        i=i+1\n",
    "        \n",
    "    \n",
    "    return sorted(indices)\n",
    "\n",
    "if __name__ == '__main__':\n",
    "    numbers = [1,4,6,9,11,15,15,15,17,21,34,34,56]\n",
    "    number_to_find = 15\n",
    "    indices = find_all_occurances(numbers, number_to_find)\n",
    "    print(f\"Indices of occurances of {number_to_find} are {indices}\")"
   ]
  },
  {
   "cell_type": "code",
   "execution_count": null,
   "id": "50f62ef2",
   "metadata": {},
   "outputs": [],
   "source": []
  }
 ],
 "metadata": {
  "kernelspec": {
   "display_name": "Python 3",
   "language": "python",
   "name": "python3"
  },
  "language_info": {
   "codemirror_mode": {
    "name": "ipython",
    "version": 3
   },
   "file_extension": ".py",
   "mimetype": "text/x-python",
   "name": "python",
   "nbconvert_exporter": "python",
   "pygments_lexer": "ipython3",
   "version": "3.8.8"
  }
 },
 "nbformat": 4,
 "nbformat_minor": 5
}
