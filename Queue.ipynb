{
 "cells": [
  {
   "cell_type": "code",
   "execution_count": 3,
   "id": "e513dec7",
   "metadata": {},
   "outputs": [],
   "source": [
    "from collections import deque\n",
    "\n",
    "class Queue:\n",
    "    \n",
    "    def __init__(self):\n",
    "        self.buffer = deque()\n",
    "    \n",
    "    def enqueue(self,val):\n",
    "        self.buffer.appendleft(val)\n",
    "        \n",
    "    def dequeue(self):\n",
    "        return self.buffer.pop()\n",
    "    \n",
    "    def is_empty(self):\n",
    "        return len(self.buffer)==0\n",
    "    \n",
    "    def size(self):\n",
    "        return len(self.buffer)"
   ]
  },
  {
   "cell_type": "code",
   "execution_count": 2,
   "id": "dfc953fa",
   "metadata": {},
   "outputs": [],
   "source": [
    "pq = Queue()\n",
    "\n",
    "pq.enqueue({\n",
    "    'company': 'Wall Mart',\n",
    "    'timestamp': '15 apr, 11.01 AM',\n",
    "    'price': 131.10\n",
    "})\n",
    "pq.enqueue({\n",
    "    'company': 'Wall Mart',\n",
    "    'timestamp': '15 apr, 11.02 AM',\n",
    "    'price': 132\n",
    "})\n",
    "pq.enqueue({\n",
    "    'company': 'Wall Mart',\n",
    "    'timestamp': '15 apr, 11.03 AM',\n",
    "    'price': 135\n",
    "})"
   ]
  },
  {
   "cell_type": "code",
   "execution_count": 3,
   "id": "0b2466ec",
   "metadata": {},
   "outputs": [
    {
     "data": {
      "text/plain": [
       "3"
      ]
     },
     "execution_count": 3,
     "metadata": {},
     "output_type": "execute_result"
    }
   ],
   "source": [
    "pq.size()"
   ]
  },
  {
   "cell_type": "code",
   "execution_count": 4,
   "id": "395da9fc",
   "metadata": {},
   "outputs": [
    {
     "data": {
      "text/plain": [
       "{'company': 'Wall Mart', 'timestamp': '15 apr, 11.01 AM', 'price': 131.1}"
      ]
     },
     "execution_count": 4,
     "metadata": {},
     "output_type": "execute_result"
    }
   ],
   "source": [
    "pq.dequeue()"
   ]
  },
  {
   "cell_type": "code",
   "execution_count": 7,
   "id": "eadcfd2f",
   "metadata": {},
   "outputs": [
    {
     "data": {
      "text/plain": [
       "deque([{'company': 'Wall Mart', 'timestamp': '15 apr, 11.03 AM', 'price': 135},\n",
       "       {'company': 'Wall Mart',\n",
       "        'timestamp': '15 apr, 11.02 AM',\n",
       "        'price': 132}])"
      ]
     },
     "execution_count": 7,
     "metadata": {},
     "output_type": "execute_result"
    }
   ],
   "source": [
    "pq.buffer"
   ]
  },
  {
   "cell_type": "markdown",
   "id": "fa4d817a",
   "metadata": {},
   "source": [
    "Exercise:-"
   ]
  },
  {
   "cell_type": "code",
   "execution_count": 2,
   "id": "8968e526",
   "metadata": {},
   "outputs": [
    {
     "name": "stdout",
     "output_type": "stream",
     "text": [
      "placing order for : pizza\n",
      "placing order for : samosa\n",
      "placing order for : pasta\n",
      "Now Serving: pizza\n",
      "placing order for : biryani\n",
      "placing order for : burger\n",
      "Now Serving: samosa\n",
      "Now Serving: pasta\n",
      "Now Serving: biryani\n",
      "Now Serving: burger\n"
     ]
    },
    {
     "name": "stderr",
     "output_type": "stream",
     "text": [
      "Exception in thread Thread-7:\n",
      "Traceback (most recent call last):\n",
      "  File \"C:\\ProgramData\\Anaconda3\\lib\\threading.py\", line 932, in _bootstrap_inner\n",
      "    self.run()\n",
      "  File \"C:\\ProgramData\\Anaconda3\\lib\\threading.py\", line 870, in run\n",
      "    self._target(*self._args, **self._kwargs)\n",
      "  File \"<ipython-input-2-7cd310cffcdc>\", line 34, in serve_orders\n",
      "  File \"<ipython-input-2-7cd310cffcdc>\", line 16, in dequeue\n",
      "IndexError: pop from an empty deque\n"
     ]
    },
    {
     "name": "stdout",
     "output_type": "stream",
     "text": [
      "queue is empty\n"
     ]
    }
   ],
   "source": [
    "import threading\n",
    "import time\n",
    "\n",
    "from collections import deque\n",
    "\n",
    "class Queue:\n",
    "    def __init__(self):\n",
    "        self.buffer = deque()\n",
    "        \n",
    "    def enqueue(self,val):\n",
    "        self.buffer.appendleft(val)\n",
    "    def dequeue(self):\n",
    "        if len(self.buffer)==0:\n",
    "            print(\"queue is empty\")\n",
    "            \n",
    "        return self.buffer.pop()\n",
    "    def size(self):\n",
    "        return len(self.buffer)\n",
    "    \n",
    "    def empty(self):\n",
    "        return len(self.buffer)==0\n",
    "    \n",
    "food_order_queue = Queue()\n",
    "\n",
    "def place_orders(orders):\n",
    "    for order in orders:\n",
    "        print(\"placing order for :\",order)\n",
    "        food_order_queue.enqueue(order)\n",
    "        time.sleep(0.5)\n",
    "        \n",
    "def serve_orders():\n",
    "    time.sleep(1)\n",
    "    while True:\n",
    "        order = food_order_queue.dequeue()\n",
    "        print(\"Now Serving:\",order)\n",
    "        time.sleep(2)\n",
    "        \n",
    "if __name__=='__main__':\n",
    "    orders = ['pizza','samosa','pasta','biryani','burger']\n",
    "    t1 = threading.Thread(target=place_orders, args=(orders,))\n",
    "    t2 = threading.Thread(target=serve_orders)\n",
    "\n",
    "    t1.start()\n",
    "    t2.start()"
   ]
  },
  {
   "cell_type": "code",
   "execution_count": 5,
   "id": "8494b81e",
   "metadata": {},
   "outputs": [
    {
     "name": "stdout",
     "output_type": "stream",
     "text": [
      "   1\n",
      "   10\n",
      "   11\n",
      "   100\n",
      "   101\n",
      "   110\n",
      "   111\n",
      "   1000\n",
      "   1001\n",
      "   1010\n"
     ]
    }
   ],
   "source": [
    "from collections import deque\n",
    "\n",
    "class Queue:\n",
    "    def __init__(self):\n",
    "        self.buffer = deque()\n",
    "\n",
    "    def enqueue(self, val):\n",
    "        self.buffer.appendleft(val)\n",
    "\n",
    "    def dequeue(self):\n",
    "        if len(self.buffer)==0:\n",
    "            print(\"Queue is empty\")\n",
    "            return\n",
    "\n",
    "        return self.buffer.pop()\n",
    "\n",
    "    def is_empty(self):\n",
    "        return len(self.buffer) == 0\n",
    "\n",
    "    def size(self):\n",
    "        return len(self.buffer)\n",
    "\n",
    "    def front(self):\n",
    "        return self.buffer[-1]\n",
    "    \n",
    "def produce_binary_numbers(n):\n",
    "    numbers_queue = Queue()\n",
    "    numbers_queue.enqueue(\"1\")\n",
    "    \n",
    "    for i in range(n):\n",
    "        front = numbers_queue.front()\n",
    "        print(\"  \",front)\n",
    "        numbers_queue.enqueue(front + \"0\")\n",
    "        numbers_queue.enqueue(front + \"1\")\n",
    "        \n",
    "        numbers_queue.dequeue()\n",
    "        \n",
    "if __name__=='__main__':\n",
    "    produce_binary_numbers(10)\n",
    "    \n",
    "    \n",
    "        "
   ]
  },
  {
   "cell_type": "code",
   "execution_count": null,
   "id": "9a20e905",
   "metadata": {},
   "outputs": [],
   "source": []
  }
 ],
 "metadata": {
  "kernelspec": {
   "display_name": "Python 3",
   "language": "python",
   "name": "python3"
  },
  "language_info": {
   "codemirror_mode": {
    "name": "ipython",
    "version": 3
   },
   "file_extension": ".py",
   "mimetype": "text/x-python",
   "name": "python",
   "nbconvert_exporter": "python",
   "pygments_lexer": "ipython3",
   "version": "3.8.8"
  }
 },
 "nbformat": 4,
 "nbformat_minor": 5
}
