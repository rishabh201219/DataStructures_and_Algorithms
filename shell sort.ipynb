{
 "cells": [
  {
   "cell_type": "code",
   "execution_count": 9,
   "id": "5264fd0d",
   "metadata": {},
   "outputs": [
    {
     "name": "stdout",
     "output_type": "stream",
     "text": [
      "[1, 2, 6, 7, 9, 12, 17, 21, 23, 53, 61, 78, 89]\n",
      "[]\n",
      "[1, 5, 8, 9]\n",
      "[1, 3, 9, 12, 12, 34, 56, 234, 1300]\n",
      "[5]\n"
     ]
    }
   ],
   "source": [
    "def shell_sort(arr): \n",
    "\n",
    "    size =len(arr) \n",
    "\n",
    "    gap = size//2 \n",
    "\n",
    "     \n",
    "\n",
    "    while gap>0: \n",
    "\n",
    "        for i in range(gap,size): \n",
    "\n",
    "            anchor=arr[i] \n",
    "\n",
    "            j=i \n",
    "\n",
    "            while j>=gap and arr[j-gap] > anchor: \n",
    "\n",
    "                arr[j] = arr[j-gap] \n",
    "\n",
    "                j-=gap \n",
    "\n",
    "            arr[j] = anchor \n",
    "\n",
    "        gap = gap//2 \n",
    "\n",
    "  \n",
    "\n",
    "if __name__=='__main__': \n",
    "\n",
    "   # elements = [21,38,29,17,4,25,11,32,9] \n",
    "\n",
    "    #shell_sort(elements) \n",
    "\n",
    "    #print(elements) \n",
    "\n",
    "    tests = [ \n",
    "\n",
    "        [89, 78, 61, 53, 23, 21, 17, 12, 9, 7, 6, 2, 1], \n",
    "\n",
    "        [], \n",
    "\n",
    "        [1,5,8,9], \n",
    "\n",
    "        [234,3,1,56,34,12,9,12,1300], \n",
    "\n",
    "        [5] \n",
    "\n",
    "    ] \n",
    "\n",
    "    elements = [89,78,61,53,23,21,17,12,9,7,6,2,1] \n",
    "\n",
    "    for elements in tests: \n",
    "\n",
    "        shell_sort(elements) \n",
    "\n",
    "        print(elements) "
   ]
  },
  {
   "cell_type": "markdown",
   "id": "eb9c2d03",
   "metadata": {},
   "source": [
    "Exercise:-"
   ]
  },
  {
   "cell_type": "code",
   "execution_count": 17,
   "id": "e4f0f834",
   "metadata": {},
   "outputs": [
    {
     "name": "stdout",
     "output_type": "stream",
     "text": [
      "Given unsorted list: [2, 1, 5, 7, 2, 0, 5, 1, 2, 9, 5, 8, 3]\n",
      "List after Sorting : [0, 1, 2, 3, 5, 7, 8, 9]\n"
     ]
    }
   ],
   "source": [
    "def shell_sort(arr): \n",
    "    n =len(arr) \n",
    "    div=2\n",
    "    gap = n//div \n",
    "    while gap>0: \n",
    "        index_to_delete=[]\n",
    "        for i in range(gap,n): \n",
    "            anchor=arr[i] \n",
    "            j=i \n",
    "            while j>=gap and arr[j-gap] >= anchor: \n",
    "                if arr[j-gap] == anchor:\n",
    "                    index_to_delete.append(j)\n",
    "                arr[j] = arr[j-gap] \n",
    "\n",
    "                j-=gap \n",
    "\n",
    "            arr[j] = anchor \n",
    "        index_to_delete = list(set(index_to_delete))\n",
    "        index_to_delete.sort()\n",
    "        if index_to_delete:\n",
    "            for i in index_to_delete[-1::-1]:\n",
    "                 del arr[i]\n",
    "            div*=2\n",
    "            n=len(arr)\n",
    "            gap = gap//div\n",
    "\n",
    "if __name__=='__main__': \n",
    "\n",
    "    elements = [2, 1, 5, 7, 2, 0, 5, 1, 2, 9,  5, 8, 3]\n",
    "\n",
    "    print(f'Given unsorted list: {elements}')\n",
    "    shell_sort(elements)\n",
    "    print(f'List after Sorting : {elements}') \n",
    "    "
   ]
  },
  {
   "cell_type": "code",
   "execution_count": null,
   "id": "986245fb",
   "metadata": {},
   "outputs": [],
   "source": []
  }
 ],
 "metadata": {
  "kernelspec": {
   "display_name": "Python 3",
   "language": "python",
   "name": "python3"
  },
  "language_info": {
   "codemirror_mode": {
    "name": "ipython",
    "version": 3
   },
   "file_extension": ".py",
   "mimetype": "text/x-python",
   "name": "python",
   "nbconvert_exporter": "python",
   "pygments_lexer": "ipython3",
   "version": "3.8.8"
  }
 },
 "nbformat": 4,
 "nbformat_minor": 5
}
